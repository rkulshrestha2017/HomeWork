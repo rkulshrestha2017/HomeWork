{
 "cells": [
  {
   "cell_type": "code",
   "execution_count": 1,
   "metadata": {
    "collapsed": true
   },
   "outputs": [],
   "source": [
    "import tweepy, re, csv, time\n",
    "import matplotlib.pyplot as plt\n",
    "import numpy as np\n",
    "from vaderSentiment.vaderSentiment import SentimentIntensityAnalyzer"
   ]
  },
  {
   "cell_type": "code",
   "execution_count": 2,
   "metadata": {
    "collapsed": true
   },
   "outputs": [],
   "source": [
    "class Twitter_Validator(object):\n",
    "\n",
    "    def __init__(self, api):\n",
    "\n",
    "        self.api = api\n",
    "\n",
    "    def check_request(self):\n",
    "        for tweet in tweepy.Cursor(self.api.search, q='@PlotBot5').items():\n",
    "            tweet_id = tweet.id\n",
    "            tweet_user_sn = tweet.user.screen_name\n",
    "            tweet_user_name = tweet.user.name\n",
    "            tweet_text = tweet.text\n",
    "\n",
    "            match = re.match('@plotbot5 analyze: @[a-z0-9_]*', tweet_text.lower())\n",
    "\n",
    "            if match:\n",
    "                return True\n",
    "            else:\n",
    "                try:\n",
    "                    self.api.update_status(status=\"@{} Sorry {}, the query was not in the proper format, please send your query in the following format: [at]PlotBot5 Analyze: [at][screen_name to be analyzed]\".format(tweet_user_sn, tweet_user_name), in_reply_to_status_id=tweet_id)\n",
    "                    return False\n",
    "                except tweepy.TweepError:\n",
    "                    pass"
   ]
  },
  {
   "cell_type": "code",
   "execution_count": 3,
   "metadata": {
    "collapsed": true
   },
   "outputs": [],
   "source": [
    "class Twitter_Checker(object):\n",
    "\n",
    "    def __init__(self, api):\n",
    "\n",
    "        self.api = api\n",
    "\n",
    "    def append_csv(self, add_row):\n",
    "        with open('data/tweet_logs.csv', mode='a') as file:\n",
    "            writer = csv.writer(file)\n",
    "\n",
    "            for item in add_row:\n",
    "                    writer = csv.writer(file)\n",
    "                    writer.writerow(item)\n",
    "\n",
    "    def check_tweet(self, tweet_id, tweet_user_sn, tweet_user_name, tweet_analyze_sn, add_row):\n",
    "        with open('data/tweet_logs.csv', mode='r') as file:\n",
    "            reader = csv.reader(file)\n",
    "\n",
    "            not_exist = True\n",
    "\n",
    "            for row in reader:\n",
    "                if str(tweet_id) in row:\n",
    "                    not_exist = False\n",
    "                    return not_exist\n",
    "\n",
    "            if not_exist:\n",
    "                self.append_csv(add_row)\n",
    "                return tweet_analyze_sn\n",
    "\n",
    "    def search_request(self):\n",
    "        for tweet in tweepy.Cursor(self.api.search, q='@PlotBot5').items():\n",
    "            tweet_id = tweet.id\n",
    "            tweet_user_sn = tweet.user.screen_name\n",
    "            tweet_user_name = tweet.user.name\n",
    "            tweet_text = tweet.text\n",
    "            tweet_analyze_sn = \"@{}\".format(tweet.entities['user_mentions'][1]['screen_name'])\n",
    "\n",
    "            add_row = [[tweet_id, \"@\" + tweet_user_sn, tweet_text, tweet_analyze_sn]]\n",
    "\n",
    "            result = self.check_tweet(tweet_id, tweet_user_sn, tweet_user_name, tweet_analyze_sn, add_row)\n",
    "            return result, tweet_user_sn, tweet_id"
   ]
  },
  {
   "cell_type": "code",
   "execution_count": 4,
   "metadata": {
    "collapsed": true
   },
   "outputs": [],
   "source": [
    "class Twitter_Plotter(object):\n",
    "\n",
    "    def __init__(self, api, screen_name, user_name, tweet_id):\n",
    "\n",
    "        self.api = api\n",
    "        self.screen_name = screen_name\n",
    "        self.user_name = user_name\n",
    "        self.tweet_id = tweet_id\n",
    "\n",
    "    def analyze_it(self):\n",
    "\n",
    "        store = []\n",
    "        for tweet in tweepy.Cursor(self.api.user_timeline, id=self.screen_name).items(500):\n",
    "            try:\n",
    "                analyzer = SentimentIntensityAnalyzer()\n",
    "                store.append(analyzer.polarity_scores(tweet.text)['compound'])\n",
    "            except tweepy.RateLimitError:\n",
    "                time.sleep(60 * 15)\n",
    "\n",
    "        return store\n",
    "\n",
    "    def plot_it(self):\n",
    "\n",
    "        store = self.analyze_it()\n",
    "\n",
    "        fig, ax = plt.subplots(figsize=(10.24, 5.12), dpi=100)\n",
    "        ax.plot(np.arange(len(store)), store, marker='o', lw=.5, color='c', zorder=3, label=self.screen_name[1:])\n",
    "        ax.set_title('Sentiment Analysis of Tweets ({} GMT)'.format(time.strftime(\"%m/%d/%y %H%M\", time.gmtime())))\n",
    "        ax.set_xlabel('Tweets Ago')\n",
    "        ax.set_ylabel('Tweet Polarity (Avg={:.4f})'.format(np.mean(store)))\n",
    "\n",
    "        ax.set_xlim(-1.5, len(store) * 1.005)\n",
    "        ax.set_ylim(-1, 1)\n",
    "\n",
    "        box = ax.get_position()\n",
    "        ax.set_position([box.x0, box.y0, box.width * 0.8, box.height])\n",
    "\n",
    "        ax.legend(loc=3, bbox_to_anchor=(1, .86), title='Tweets')\n",
    "        ax.grid(ls='dashed', zorder=0)\n",
    "\n",
    "        img_file = \"data/plots/{}_{}.png\".format(self.screen_name[1:], time.strftime(\"%Y%m%d%H%M\", time.gmtime()))\n",
    "\n",
    "        plt.savefig(img_file, dpi=100, bbox_inches='tight')\n",
    "\n",
    "        return img_file\n",
    "\n",
    "    def send_it(self):\n",
    "\n",
    "        img_file = self.plot_it()\n",
    "        self.api.update_with_media(img_file, status=\"New Tweet Analysis: {} (Thanks @{})\".format(self.screen_name[1:], self.user_name), in_reply_to_status_id=self.tweet_id)\n"
   ]
  }
 ],
 "metadata": {
  "kernelspec": {
   "display_name": "Python [conda env:Anaconda3]",
   "language": "python",
   "name": "conda-env-Anaconda3-py"
  },
  "language_info": {
   "codemirror_mode": {
    "name": "ipython",
    "version": 3
   },
   "file_extension": ".py",
   "mimetype": "text/x-python",
   "name": "python",
   "nbconvert_exporter": "python",
   "pygments_lexer": "ipython3",
   "version": "3.6.3"
  }
 },
 "nbformat": 4,
 "nbformat_minor": 2
}
