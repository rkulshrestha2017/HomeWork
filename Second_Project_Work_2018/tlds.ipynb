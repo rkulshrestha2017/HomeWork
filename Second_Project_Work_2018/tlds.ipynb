{
 "cells": [
  {
   "cell_type": "code",
   "execution_count": 25,
   "metadata": {
    "collapsed": true
   },
   "outputs": [],
   "source": [
    "import pymongo\n",
    "from bson.json_util import dumps\n",
    "import pandas as pd"
   ]
  },
  {
   "cell_type": "code",
   "execution_count": 26,
   "metadata": {
    "collapsed": true
   },
   "outputs": [],
   "source": [
    "conn = 'mongodb://localhost:27017'\n",
    "client = pymongo.MongoClient(conn)"
   ]
  },
  {
   "cell_type": "code",
   "execution_count": 27,
   "metadata": {
    "collapsed": true
   },
   "outputs": [],
   "source": [
    "db = client.gtlddb\n",
    "output = []"
   ]
  },
  {
   "cell_type": "code",
   "execution_count": 28,
   "metadata": {
    "collapsed": true
   },
   "outputs": [],
   "source": [
    "tlds = db.tlds.find()"
   ]
  },
  {
   "cell_type": "code",
   "execution_count": 29,
   "metadata": {},
   "outputs": [
    {
     "name": "stdout",
     "output_type": "stream",
     "text": [
      "{'_id': ObjectId('5ae878cbd70653db63f28c81'), '': 0, 'tlds': 'loan', 'count': 2585685, 'share': 11.1, 'url': 'http://nic.loan'}\n",
      "{'_id': ObjectId('5ae878cbd70653db63f28c82'), '': 1, 'tlds': 'top', 'count': 2377265, 'share': 10.2, 'url': 'http://www.nic.top/en'}\n",
      "{'_id': ObjectId('5ae878cbd70653db63f28c83'), '': 2, 'tlds': 'xyz', 'count': 2368201, 'share': 10.2, 'url': 'http://nic.xyz'}\n",
      "{'_id': ObjectId('5ae878cbd70653db63f28c84'), '': 3, 'tlds': 'club', 'count': 1240523, 'share': 5.3, 'url': 'http://dotclub.com'}\n",
      "{'_id': ObjectId('5ae878cbd70653db63f28c85'), '': 4, 'tlds': 'vip', 'count': 882556, 'share': 3.8, 'url': 'http://mmx.co/'}\n",
      "{'_id': ObjectId('5ae878cbd70653db63f28c86'), '': 5, 'tlds': 'online', 'count': 841597, 'share': 3.6, 'url': 'http://radix.website/dot-online/'}\n",
      "{'_id': ObjectId('5ae878cbd70653db63f28c87'), '': 6, 'tlds': 'win', 'count': 677153, 'share': 2.9, 'url': 'http://nic.win'}\n",
      "{'_id': ObjectId('5ae878cbd70653db63f28c88'), '': 7, 'tlds': 'wang', 'count': 617410, 'share': 2.7, 'url': 'http://www.zodiacregistry.com'}\n",
      "{'_id': ObjectId('5ae878cbd70653db63f28c89'), '': 8, 'tlds': 'shop', 'count': 566061, 'share': 2.4, 'url': 'http://www.gmo-registry.com'}\n",
      "{'_id': ObjectId('5ae878cbd70653db63f28c8a'), '': 9, 'tlds': 'men', 'count': 544196, 'share': 2.3, 'url': 'http://www.famousfourmedia.com/'}\n",
      "{'_id': ObjectId('5ae878cbd70653db63f28c8b'), '': 10, 'tlds': 'site', 'count': 498478, 'share': 2.1, 'url': 'http://radix.website/dot-site/'}\n",
      "{'_id': ObjectId('5ae878cbd70653db63f28c8c'), '': 11, 'tlds': 'bid', 'count': 387919, 'share': 1.7, 'url': 'http://www.famousfourmedia.com'}\n",
      "{'_id': ObjectId('5ae878cbd70653db63f28c8d'), '': 12, 'tlds': 'xin', 'count': 366882, 'share': 1.6, 'url': 'http://nic.xin/'}\n",
      "{'_id': ObjectId('5ae878cbd70653db63f28c8e'), '': 13, 'tlds': 'ltd', 'count': 353952, 'share': 1.5, 'url': 'http://donuts.co'}\n",
      "{'_id': ObjectId('5ae878cbd70653db63f28c8f'), '': 14, 'tlds': 'space', 'count': 276127, 'share': 1.2, 'url': 'http://radix.website/'}\n",
      "{'_id': ObjectId('5ae878cbd70653db63f28c90'), '': 15, 'tlds': 'work', 'count': 264686, 'share': 1.1, 'url': 'http://mmx.co/'}\n",
      "{'_id': ObjectId('5ae878cbd70653db63f28c91'), '': 16, 'tlds': 'website', 'count': 259580, 'share': 1.1, 'url': 'http://radix.website/'}\n",
      "{'_id': ObjectId('5ae878cbd70653db63f28c92'), '': 17, 'tlds': 'stream', 'count': 242499, 'share': 1, 'url': ''}\n",
      "{'_id': ObjectId('5ae878cbd70653db63f28c93'), '': 18, 'tlds': 'tech', 'count': 240652, 'share': 1, 'url': 'http://radix.website/'}\n",
      "{'_id': ObjectId('5ae878cbd70653db63f28c94'), '': 19, 'tlds': 'review', 'count': 235484, 'share': 1, 'url': 'http://nic.review'}\n",
      "{'_id': ObjectId('5ae878cbd70653db63f28c95'), '': 20, 'tlds': 'xn--ses554g', 'count': 232864, 'share': 1, 'url': 'http://knet.cn/'}\n",
      "{'_id': ObjectId('5ae878cbd70653db63f28c96'), '': 21, 'tlds': 'link', 'count': 199061, 'share': 0.9, 'url': 'http://www.uniregistry.com'}\n",
      "{'_id': ObjectId('5ae878cbd70653db63f28c97'), '': 22, 'tlds': 'store', 'count': 190990, 'share': 0.8, 'url': 'http://www.radix.website/'}\n",
      "{'_id': ObjectId('5ae878cbd70653db63f28c98'), '': 23, 'tlds': 'life', 'count': 187662, 'share': 0.8, 'url': 'http://donuts.co'}\n",
      "{'_id': ObjectId('5ae878cbd70653db63f28c99'), '': 24, 'tlds': 'live', 'count': 174250, 'share': 0.7, 'url': 'http://www.rightside.co'}\n",
      "{'_id': ObjectId('5ae878cbd70653db63f28c9a'), '': 25, 'tlds': 'trade', 'count': 169295, 'share': 0.7, 'url': 'http://www.famousfourmedia.com'}\n",
      "{'_id': ObjectId('5ae878cbd70653db63f28c9b'), '': 26, 'tlds': 'blog', 'count': 155993, 'share': 0.7, 'url': 'https://nic.blog/'}\n",
      "{'_id': ObjectId('5ae878cbd70653db63f28c9c'), '': 27, 'tlds': 'cloud', 'count': 143303, 'share': 0.6, 'url': 'https://www.aruba.it/'}\n",
      "{'_id': ObjectId('5ae878cbd70653db63f28c9d'), '': 28, 'tlds': 'download', 'count': 139756, 'share': 0.6, 'url': 'http://nic.support/'}\n",
      "{'_id': ObjectId('5ae878cbd70653db63f28c9e'), '': 29, 'tlds': 'date', 'count': 132389, 'share': 0.6, 'url': 'http://nic.date'}\n"
     ]
    }
   ],
   "source": [
    "for tld in tlds:\n",
    "    print(tld)"
   ]
  },
  {
   "cell_type": "code",
   "execution_count": null,
   "metadata": {
    "collapsed": true
   },
   "outputs": [],
   "source": []
  }
 ],
 "metadata": {
  "kernelspec": {
   "display_name": "Python [conda env:Anaconda3]",
   "language": "python",
   "name": "conda-env-Anaconda3-py"
  },
  "language_info": {
   "codemirror_mode": {
    "name": "ipython",
    "version": 3
   },
   "file_extension": ".py",
   "mimetype": "text/x-python",
   "name": "python",
   "nbconvert_exporter": "python",
   "pygments_lexer": "ipython3",
   "version": "3.6.3"
  }
 },
 "nbformat": 4,
 "nbformat_minor": 2
}
